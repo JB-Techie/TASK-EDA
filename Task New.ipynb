{
 "cells": [
  {
   "cell_type": "code",
   "execution_count": 1,
   "id": "14123aa7",
   "metadata": {},
   "outputs": [],
   "source": [
    "import pandas as pd\n",
    "import seaborn as sns\n",
    "import matplotlib.pyplot as plt\n",
    "\n",
    "df = pd.read_csv(r\"C:\\users\\nathan\\Desktop\\Data Scientist Salaries - EDA\\ds_salaries.csv\")\n"
   ]
  },
  {
   "cell_type": "code",
   "execution_count": 2,
   "id": "dbb7bb9f",
   "metadata": {},
   "outputs": [
    {
     "data": {
      "text/plain": [
       "'C:\\\\Users\\\\Nathan\\\\Desktop'"
      ]
     },
     "execution_count": 2,
     "metadata": {},
     "output_type": "execute_result"
    }
   ],
   "source": [
    "pwd()"
   ]
  },
  {
   "cell_type": "code",
   "execution_count": null,
   "id": "9bdf2e3d",
   "metadata": {},
   "outputs": [],
   "source": [
    "6 categorical columns in the dataset:\n",
    "\n",
    "Experiece Level\n",
    "Job Titles\n",
    "Employment Type\n",
    "Employee Resdience\n",
    "Company Location\n",
    "Company Size.\n"
   ]
  },
  {
   "cell_type": "code",
   "execution_count": null,
   "id": "7dcdc831",
   "metadata": {},
   "outputs": [],
   "source": [
    "print('how many job titles in the dataset: ',df['job_title'].value_counts().size)"
   ]
  },
  {
   "cell_type": "code",
   "execution_count": 4,
   "id": "1098aee8",
   "metadata": {},
   "outputs": [
    {
     "name": "stdout",
     "output_type": "stream",
     "text": [
      "   Unnamed: 0  work_year experience_level employment_type  \\\n",
      "0           0       2020               MI              FT   \n",
      "1           1       2020               SE              FT   \n",
      "2           2       2020               SE              FT   \n",
      "3           3       2020               MI              FT   \n",
      "4           4       2020               SE              FT   \n",
      "\n",
      "                    job_title  salary salary_currency  salary_in_usd  \\\n",
      "0              Data Scientist   70000             EUR          79833   \n",
      "1  Machine Learning Scientist  260000             USD         260000   \n",
      "2           Big Data Engineer   85000             GBP         109024   \n",
      "3        Product Data Analyst   20000             USD          20000   \n",
      "4   Machine Learning Engineer  150000             USD         150000   \n",
      "\n",
      "  employee_residence  remote_ratio company_location company_size  \n",
      "0                 DE             0               DE            L  \n",
      "1                 JP             0               JP            S  \n",
      "2                 GB            50               GB            M  \n",
      "3                 HN             0               HN            S  \n",
      "4                 US            50               US            L  \n"
     ]
    }
   ],
   "source": [
    "import pandas as pd\n",
    "\n",
    "df = pd.read_csv(r\"C:\\users\\nathan\\Desktop\\Data Scientist Salaries - EDA\\ds_salaries.csv\")\n",
    "\n",
    "print(df.head())\n"
   ]
  },
  {
   "cell_type": "code",
   "execution_count": null,
   "id": "f36d6933",
   "metadata": {},
   "outputs": [],
   "source": [
    "#After loading the dataset,I will use the describe() method to get a summary of the numerical variables in the dataset:"
   ]
  },
  {
   "cell_type": "code",
   "execution_count": 6,
   "id": "fa3cce1f",
   "metadata": {},
   "outputs": [
    {
     "data": {
      "text/html": [
       "<div>\n",
       "<style scoped>\n",
       "    .dataframe tbody tr th:only-of-type {\n",
       "        vertical-align: middle;\n",
       "    }\n",
       "\n",
       "    .dataframe tbody tr th {\n",
       "        vertical-align: top;\n",
       "    }\n",
       "\n",
       "    .dataframe thead th {\n",
       "        text-align: right;\n",
       "    }\n",
       "</style>\n",
       "<table border=\"1\" class=\"dataframe\">\n",
       "  <thead>\n",
       "    <tr style=\"text-align: right;\">\n",
       "      <th></th>\n",
       "      <th>Unnamed: 0</th>\n",
       "      <th>work_year</th>\n",
       "      <th>salary</th>\n",
       "      <th>salary_in_usd</th>\n",
       "      <th>remote_ratio</th>\n",
       "    </tr>\n",
       "  </thead>\n",
       "  <tbody>\n",
       "    <tr>\n",
       "      <th>count</th>\n",
       "      <td>607.000000</td>\n",
       "      <td>607.000000</td>\n",
       "      <td>6.070000e+02</td>\n",
       "      <td>607.000000</td>\n",
       "      <td>607.00000</td>\n",
       "    </tr>\n",
       "    <tr>\n",
       "      <th>mean</th>\n",
       "      <td>303.000000</td>\n",
       "      <td>2021.405272</td>\n",
       "      <td>3.240001e+05</td>\n",
       "      <td>112297.869852</td>\n",
       "      <td>70.92257</td>\n",
       "    </tr>\n",
       "    <tr>\n",
       "      <th>std</th>\n",
       "      <td>175.370085</td>\n",
       "      <td>0.692133</td>\n",
       "      <td>1.544357e+06</td>\n",
       "      <td>70957.259411</td>\n",
       "      <td>40.70913</td>\n",
       "    </tr>\n",
       "    <tr>\n",
       "      <th>min</th>\n",
       "      <td>0.000000</td>\n",
       "      <td>2020.000000</td>\n",
       "      <td>4.000000e+03</td>\n",
       "      <td>2859.000000</td>\n",
       "      <td>0.00000</td>\n",
       "    </tr>\n",
       "    <tr>\n",
       "      <th>25%</th>\n",
       "      <td>151.500000</td>\n",
       "      <td>2021.000000</td>\n",
       "      <td>7.000000e+04</td>\n",
       "      <td>62726.000000</td>\n",
       "      <td>50.00000</td>\n",
       "    </tr>\n",
       "    <tr>\n",
       "      <th>50%</th>\n",
       "      <td>303.000000</td>\n",
       "      <td>2022.000000</td>\n",
       "      <td>1.150000e+05</td>\n",
       "      <td>101570.000000</td>\n",
       "      <td>100.00000</td>\n",
       "    </tr>\n",
       "    <tr>\n",
       "      <th>75%</th>\n",
       "      <td>454.500000</td>\n",
       "      <td>2022.000000</td>\n",
       "      <td>1.650000e+05</td>\n",
       "      <td>150000.000000</td>\n",
       "      <td>100.00000</td>\n",
       "    </tr>\n",
       "    <tr>\n",
       "      <th>max</th>\n",
       "      <td>606.000000</td>\n",
       "      <td>2022.000000</td>\n",
       "      <td>3.040000e+07</td>\n",
       "      <td>600000.000000</td>\n",
       "      <td>100.00000</td>\n",
       "    </tr>\n",
       "  </tbody>\n",
       "</table>\n",
       "</div>"
      ],
      "text/plain": [
       "       Unnamed: 0    work_year        salary  salary_in_usd  remote_ratio\n",
       "count  607.000000   607.000000  6.070000e+02     607.000000     607.00000\n",
       "mean   303.000000  2021.405272  3.240001e+05  112297.869852      70.92257\n",
       "std    175.370085     0.692133  1.544357e+06   70957.259411      40.70913\n",
       "min      0.000000  2020.000000  4.000000e+03    2859.000000       0.00000\n",
       "25%    151.500000  2021.000000  7.000000e+04   62726.000000      50.00000\n",
       "50%    303.000000  2022.000000  1.150000e+05  101570.000000     100.00000\n",
       "75%    454.500000  2022.000000  1.650000e+05  150000.000000     100.00000\n",
       "max    606.000000  2022.000000  3.040000e+07  600000.000000     100.00000"
      ]
     },
     "execution_count": 6,
     "metadata": {},
     "output_type": "execute_result"
    }
   ],
   "source": [
    "df.describe()"
   ]
  },
  {
   "cell_type": "code",
   "execution_count": 32,
   "id": "a06c5a74",
   "metadata": {},
   "outputs": [
    {
     "name": "stdout",
     "output_type": "stream",
     "text": [
      "how many job titles in the dataset:  50\n"
     ]
    }
   ],
   "source": [
    "print('how many job titles in the dataset: ',df['job_title'].value_counts().size)"
   ]
  },
  {
   "cell_type": "code",
   "execution_count": null,
   "id": "72bcdd76",
   "metadata": {},
   "outputs": [],
   "source": [
    "#There are a total of 50 job titles in the data set \n",
    "#next i will get the info of the data set"
   ]
  },
  {
   "cell_type": "code",
   "execution_count": 7,
   "id": "32237115",
   "metadata": {},
   "outputs": [
    {
     "data": {
      "text/plain": [
       "<bound method DataFrame.info of      Unnamed: 0  work_year experience_level employment_type  \\\n",
       "0             0       2020               MI              FT   \n",
       "1             1       2020               SE              FT   \n",
       "2             2       2020               SE              FT   \n",
       "3             3       2020               MI              FT   \n",
       "4             4       2020               SE              FT   \n",
       "..          ...        ...              ...             ...   \n",
       "602         602       2022               SE              FT   \n",
       "603         603       2022               SE              FT   \n",
       "604         604       2022               SE              FT   \n",
       "605         605       2022               SE              FT   \n",
       "606         606       2022               MI              FT   \n",
       "\n",
       "                      job_title  salary salary_currency  salary_in_usd  \\\n",
       "0                Data Scientist   70000             EUR          79833   \n",
       "1    Machine Learning Scientist  260000             USD         260000   \n",
       "2             Big Data Engineer   85000             GBP         109024   \n",
       "3          Product Data Analyst   20000             USD          20000   \n",
       "4     Machine Learning Engineer  150000             USD         150000   \n",
       "..                          ...     ...             ...            ...   \n",
       "602               Data Engineer  154000             USD         154000   \n",
       "603               Data Engineer  126000             USD         126000   \n",
       "604                Data Analyst  129000             USD         129000   \n",
       "605                Data Analyst  150000             USD         150000   \n",
       "606                AI Scientist  200000             USD         200000   \n",
       "\n",
       "    employee_residence  remote_ratio company_location company_size  \n",
       "0                   DE             0               DE            L  \n",
       "1                   JP             0               JP            S  \n",
       "2                   GB            50               GB            M  \n",
       "3                   HN             0               HN            S  \n",
       "4                   US            50               US            L  \n",
       "..                 ...           ...              ...          ...  \n",
       "602                 US           100               US            M  \n",
       "603                 US           100               US            M  \n",
       "604                 US             0               US            M  \n",
       "605                 US           100               US            M  \n",
       "606                 IN           100               US            L  \n",
       "\n",
       "[607 rows x 12 columns]>"
      ]
     },
     "execution_count": 7,
     "metadata": {},
     "output_type": "execute_result"
    }
   ],
   "source": [
    "df.info"
   ]
  },
  {
   "cell_type": "code",
   "execution_count": null,
   "id": "d4ad777a",
   "metadata": {},
   "outputs": [],
   "source": [
    "#from the above,it shows that there is a total of 607 rows and 12 columns in the data set\n",
    "#Next we will look and the accuracy of the dataset,if there exists any empty or null cell"
   ]
  },
  {
   "cell_type": "code",
   "execution_count": 8,
   "id": "131c7786",
   "metadata": {},
   "outputs": [
    {
     "data": {
      "text/plain": [
       "Unnamed: 0            0\n",
       "work_year             0\n",
       "experience_level      0\n",
       "employment_type       0\n",
       "job_title             0\n",
       "salary                0\n",
       "salary_currency       0\n",
       "salary_in_usd         0\n",
       "employee_residence    0\n",
       "remote_ratio          0\n",
       "company_location      0\n",
       "company_size          0\n",
       "dtype: int64"
      ]
     },
     "execution_count": 8,
     "metadata": {},
     "output_type": "execute_result"
    }
   ],
   "source": [
    "df.isnull().sum()"
   ]
  },
  {
   "cell_type": "code",
   "execution_count": null,
   "id": "105102d4",
   "metadata": {},
   "outputs": [],
   "source": [
    "#from the above,we can see that there exists no empty cell hence the data is clean\n"
   ]
  },
  {
   "cell_type": "code",
   "execution_count": 10,
   "id": "c3d47144",
   "metadata": {},
   "outputs": [
    {
     "name": "stdout",
     "output_type": "stream",
     "text": [
      "Index(['Unnamed: 0', 'work_year', 'experience_level', 'employment_type',\n",
      "       'job_title', 'salary', 'salary_currency', 'salary_in_usd',\n",
      "       'employee_residence', 'remote_ratio', 'company_location',\n",
      "       'company_size'],\n",
      "      dtype='object')\n"
     ]
    }
   ],
   "source": [
    "print(df.columns)"
   ]
  },
  {
   "cell_type": "code",
   "execution_count": 22,
   "id": "6bf183ca",
   "metadata": {
    "scrolled": true
   },
   "outputs": [
    {
     "data": {
      "image/png": "[encoded data removed]",
      "text/plain": [
       "<Figure size 1296x1152 with 1 Axes>"
      ]
     },
     "metadata": {
      "needs_background": "light"
     },
     "output_type": "display_data"
    }
   ],
   "source": [
    "plt.figure(figsize=(18,16)) # set the figure size to 18 by 16 inches\n",
    "sns.countplot(data=df, x=\"company_location\")\n",
    "plt.show() # display the plot\n",
    "#The Plot below shows that the highest number of staff are based in the United States"
   ]
  },
  {
   "cell_type": "code",
   "execution_count": 14,
   "id": "8e3e9911",
   "metadata": {},
   "outputs": [
    {
     "data": {
      "text/plain": [
       "US    355\n",
       "GB     47\n",
       "CA     30\n",
       "DE     28\n",
       "IN     24\n",
       "FR     15\n",
       "ES     14\n",
       "GR     11\n",
       "JP      6\n",
       "NL      4\n",
       "AT      4\n",
       "PT      4\n",
       "PL      4\n",
       "LU      3\n",
       "PK      3\n",
       "BR      3\n",
       "AE      3\n",
       "MX      3\n",
       "AU      3\n",
       "TR      3\n",
       "DK      3\n",
       "IT      2\n",
       "CZ      2\n",
       "SI      2\n",
       "RU      2\n",
       "CH      2\n",
       "NG      2\n",
       "CN      2\n",
       "BE      2\n",
       "VN      1\n",
       "EE      1\n",
       "AS      1\n",
       "DZ      1\n",
       "MY      1\n",
       "MD      1\n",
       "KE      1\n",
       "SG      1\n",
       "CO      1\n",
       "IR      1\n",
       "CL      1\n",
       "MT      1\n",
       "IL      1\n",
       "UA      1\n",
       "IQ      1\n",
       "RO      1\n",
       "HR      1\n",
       "NZ      1\n",
       "HU      1\n",
       "HN      1\n",
       "IE      1\n",
       "Name: company_location, dtype: int64"
      ]
     },
     "execution_count": 14,
     "metadata": {},
     "output_type": "execute_result"
    }
   ],
   "source": [
    "df[\"company_location\"].value_counts()\n"
   ]
  },
  {
   "cell_type": "code",
   "execution_count": 18,
   "id": "dfab1059",
   "metadata": {},
   "outputs": [
    {
     "data": {
      "text/plain": [
       "<AxesSubplot:xlabel='experience_level', ylabel='salary'>"
      ]
     },
     "execution_count": 18,
     "metadata": {},
     "output_type": "execute_result"
    },
    {
     "data": {
      "image/png": "[encoded data removed]",
      "text/plain": [
       "<Figure size 432x288 with 1 Axes>"
      ]
     },
     "metadata": {
      "needs_background": "light"
     },
     "output_type": "display_data"
    }
   ],
   "source": [
    "sns.boxplot(data=df, x=\"experience_level\", y=\"salary\")\n",
    "#MI,SE,EN,EX indicates the Junior Mid Level,Senior Level,Entry Level,Director\n",
    "#From The Plot below,it indicates that majority of the staff fall under the Junior Mid level category"
   ]
  },
  {
   "cell_type": "code",
   "execution_count": 25,
   "id": "8e4baad4",
   "metadata": {},
   "outputs": [
    {
     "data": {
      "text/plain": [
       "<Figure size 1296x1440 with 0 Axes>"
      ]
     },
     "execution_count": 25,
     "metadata": {},
     "output_type": "execute_result"
    },
    {
     "data": {
      "image/png": "[encoded data removed]",
      "text/plain": [
       "<Figure size 360x360 with 1 Axes>"
      ]
     },
     "metadata": {
      "needs_background": "light"
     },
     "output_type": "display_data"
    },
    {
     "data": {
      "text/plain": [
       "<Figure size 1296x1440 with 0 Axes>"
      ]
     },
     "metadata": {},
     "output_type": "display_data"
    }
   ],
   "source": [
    "sns.displot(df['work_year'])\n",
    "plt.figure(figsize=(18,16)) # setting figure size to 18 by 16 inches\n",
    "#The Plot Below shows that the highest number of staff were paid in 2022;which indicates that operational cost would have increaed in 2022."
   ]
  },
  {
   "cell_type": "code",
   "execution_count": 27,
   "id": "9f746bf3",
   "metadata": {},
   "outputs": [
    {
     "data": {
      "image/png": "[encoded data removed]",
      "text/plain": [
       "<Figure size 432x288 with 1 Axes>"
      ]
     },
     "metadata": {
      "needs_background": "light"
     },
     "output_type": "display_data"
    },
    {
     "data": {
      "text/plain": [
       "<Figure size 1296x1152 with 0 Axes>"
      ]
     },
     "metadata": {},
     "output_type": "display_data"
    }
   ],
   "source": [
    "sns.boxplot(data=df, x=\"remote_ratio\", y=\"salary\")\n",
    "plt.figure(figsize=(18,16)) # set the figure size to 18 by 16 inches\n",
    "plt.show()\n",
    "\n"
   ]
  },
  {
   "cell_type": "code",
   "execution_count": null,
   "id": "3881cabc",
   "metadata": {},
   "outputs": [],
   "source": [
    "#From the above ,it is clear to see that the highest number of staff work  partially remote ; the highest paid staff work 100% remotely."
   ]
  },
  {
   "cell_type": "code",
   "execution_count": 37,
   "id": "6e0b2943",
   "metadata": {},
   "outputs": [
    {
     "data": {
      "image/png": "[encoded data removed]",
      "text/plain": [
       "<Figure size 432x288 with 1 Axes>"
      ]
     },
     "metadata": {
      "needs_background": "light"
     },
     "output_type": "display_data"
    },
    {
     "data": {
      "text/plain": [
       "<Figure size 1296x1152 with 0 Axes>"
      ]
     },
     "metadata": {},
     "output_type": "display_data"
    }
   ],
   "source": [
    "sns.boxplot(data=df, x=\"work_year\", y=\"remote_ratio\")\n",
    "plt.figure(figsize=(18,16)) # set the figure size to 18 by 16 inches\n",
    "plt.show()\n",
    "#The following indicates that majority of the workforce have worked remotely from 2020-2022."
   ]
  },
  {
   "cell_type": "code",
   "execution_count": 58,
   "id": "e94529eb",
   "metadata": {},
   "outputs": [
    {
     "data": {
      "image/png": "[encoded data removed]",
      "text/plain": [
       "<Figure size 432x288 with 1 Axes>"
      ]
     },
     "metadata": {
      "needs_background": "light"
     },
     "output_type": "display_data"
    },
    {
     "data": {
      "text/plain": [
       "<Figure size 720x576 with 0 Axes>"
      ]
     },
     "metadata": {},
     "output_type": "display_data"
    }
   ],
   "source": [
    "# Create a countplot of employment type by experience level\n",
    "sns.countplot(data=df, x='employment_type', hue='experience_level')\n",
    "\n",
    "# Set the figure size\n",
    "plt.figure(figsize=(10, 8))\n",
    "\n",
    "# Show the plot\n",
    "plt.show()\n",
    "# The Plot below shows that most of the staff are full time employees who work remotely and are senior level employees."
   ]
  },
  {
   "cell_type": "code",
   "execution_count": 65,
   "id": "1a446d9b",
   "metadata": {},
   "outputs": [
    {
     "data": {
      "image/png": "[encoded data removed]",
      "text/plain": [
       "<Figure size 432x288 with 1 Axes>"
      ]
     },
     "metadata": {
      "needs_background": "light"
     },
     "output_type": "display_data"
    },
    {
     "data": {
      "text/plain": [
       "<Figure size 720x432 with 0 Axes>"
      ]
     },
     "metadata": {},
     "output_type": "display_data"
    }
   ],
   "source": [
    "sns.histplot(data=df, x=\"experience_level\", y=\"company_size\")sns.countplot(data=df, x=\"company_location\")\n",
    "plt.figure(figsize=(10,6)) # set the figure size to 10 by 6inches\n",
    "plt.show()\n",
    "#From the plot below,we can say that "
   ]
  }
 ],
 "metadata": {
  "kernelspec": {
   "display_name": "Python 3 (ipykernel)",
   "language": "python",
   "name": "python3"
  },
  "language_info": {
   "codemirror_mode": {
    "name": "ipython",
    "version": 3
   },
   "file_extension": ".py",
   "mimetype": "text/x-python",
   "name": "python",
   "nbconvert_exporter": "python",
   "pygments_lexer": "ipython3",
   "version": "3.9.12"
  }
 },
 "nbformat": 4,
 "nbformat_minor": 5
}
